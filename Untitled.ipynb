{
 "cells": [
  {
   "cell_type": "code",
   "execution_count": 1,
   "id": "a2ccad6e-1633-4db6-832b-258f3067d428",
   "metadata": {
    "tags": []
   },
   "outputs": [],
   "source": [
    "import cv2\n",
    "import numpy as np \n",
    "import streamlit as st\n",
    "import logging \n"
   ]
  },
  {
   "cell_type": "code",
   "execution_count": 2,
   "id": "655d1c7a-e11f-4040-befb-34064defd0c8",
   "metadata": {
    "tags": []
   },
   "outputs": [],
   "source": [
    "\n",
    "class Image:\n",
    "    \n",
    "    def __init__(self,image_path) :\n",
    "    \n",
    "        self.image_read = cv2.imread(image_path,cv2.IMREAD_GRAYSCALE)\n",
    "        self.image_read = cv2.resize(self.image_read,(190,190))\n",
    "        self.img_shape = self.image_read.shape\n",
    "        #Calculating Fourier transform of image\n",
    "        self.ft = np.fft.fft2(self.image_read)\n",
    "        self.fourier_shift = np.fft.fftshift(self.ft)\n",
    "        self.magnitude = np.log(1+np.abs(self.fourier_shift))\n",
    "        self.phase = np.angle(self.fourier_shift)\n",
    "        self.real = self.fourier_shift.real\n",
    "        self.imaginary = self.fourier_shift.imag\n",
    "        self.uniform_magnitude = np.ones_like(self.magnitude)\n",
    "        self.uniform_phase = np.zeros_like(self.phase)"
   ]
  },
  {
   "cell_type": "code",
   "execution_count": 3,
   "id": "0a031fc9-8961-4951-a6ba-b4bed74142e0",
   "metadata": {
    "tags": []
   },
   "outputs": [],
   "source": [
    "image_path = r'C:\\Users\\shiro\\OneDrive\\Desktop\\DSP_Tasks\\Task 4\\FT-Magnitude-phase-Mixer\\DOG.jfif'\n",
    "\n"
   ]
  },
  {
   "cell_type": "code",
   "execution_count": null,
   "id": "ee38f207-acf9-4fb4-8b4b-baf51edb29bc",
   "metadata": {},
   "outputs": [],
   "source": []
  }
 ],
 "metadata": {
  "kernelspec": {
   "display_name": "Python 3 (ipykernel)",
   "language": "python",
   "name": "python3"
  },
  "language_info": {
   "codemirror_mode": {
    "name": "ipython",
    "version": 3
   },
   "file_extension": ".py",
   "mimetype": "text/x-python",
   "name": "python",
   "nbconvert_exporter": "python",
   "pygments_lexer": "ipython3",
   "version": "3.10.0"
  }
 },
 "nbformat": 4,
 "nbformat_minor": 5
}
